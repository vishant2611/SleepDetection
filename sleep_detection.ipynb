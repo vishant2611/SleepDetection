{
 "cells": [
  {
   "cell_type": "code",
   "execution_count": 12,
   "id": "88eb461d",
   "metadata": {},
   "outputs": [],
   "source": [
    "#!pip install imutils  # rotation , resizing, detecting edges\n"
   ]
  },
  {
   "cell_type": "code",
   "execution_count": 13,
   "id": "709437e4",
   "metadata": {},
   "outputs": [],
   "source": [
    "#!pip install cmake"
   ]
  },
  {
   "cell_type": "code",
   "execution_count": 11,
   "id": "895e5f2e",
   "metadata": {},
   "outputs": [],
   "source": [
    "#!pip install dlib"
   ]
  },
  {
   "cell_type": "code",
   "execution_count": 2,
   "id": "fd5e47c8",
   "metadata": {},
   "outputs": [
    {
     "name": "stdout",
     "output_type": "stream",
     "text": [
      "Collecting pygame\n",
      "  Downloading pygame-2.4.0-cp310-cp310-win_amd64.whl (10.6 MB)\n",
      "     --------------------------------------- 10.6/10.6 MB 13.1 MB/s eta 0:00:00\n",
      "Installing collected packages: pygame\n",
      "Successfully installed pygame-2.4.0\n"
     ]
    }
   ],
   "source": [
    "#!pip install pygame"
   ]
  },
  {
   "cell_type": "code",
   "execution_count": 1,
   "id": "98b3ad66",
   "metadata": {},
   "outputs": [
    {
     "name": "stdout",
     "output_type": "stream",
     "text": [
      "pygame 2.4.0 (SDL 2.26.4, Python 3.10.8)\n",
      "Hello from the pygame community. https://www.pygame.org/contribute.html\n"
     ]
    }
   ],
   "source": [
    "import cv2\n",
    "import imutils \n",
    "from imutils import face_utils # for left and right eye\n",
    "import dlib\n",
    "from scipy.spatial import distance\n",
    "from pygame import mixer"
   ]
  },
  {
   "cell_type": "code",
   "execution_count": 2,
   "id": "06bc5581",
   "metadata": {},
   "outputs": [],
   "source": [
    "def EAR_func(eye):\n",
    "    vertical_1_euclidean = distance.euclidean(eye[1],eye[5])\n",
    "    vertical_2_euclidean = distance.euclidean(eye[2],eye[4])\n",
    "    horizontal_euclidean = distance.euclidean(eye[0],eye[3])\n",
    "    ear = (vertical_1_euclidean+vertical_2_euclidean)/(2*horizontal_euclidean)\n",
    "    return ear"
   ]
  },
  {
   "cell_type": "code",
   "execution_count": 3,
   "id": "e59e15d2",
   "metadata": {},
   "outputs": [],
   "source": [
    "(left_eye_landmark_start,left_eye_landmark_end) = face_utils.FACIAL_LANDMARKS_68_IDXS['left_eye']\n",
    "(right_eye_landmark_start,right_eye_landmark_end) = face_utils.FACIAL_LANDMARKS_68_IDXS['right_eye']\n",
    "\n",
    "facial_detection = dlib.get_frontal_face_detector()\n",
    "shape_predictor = dlib.shape_predictor(\"shape_predictor_68_face_landmarks.dat\") # it will detect 68 landmarks from our face\n",
    "#P0 and P3 are horizontal points of eyes\n",
    "#P1,P2,P4 and P5 are vertical points of eyes\n",
    "#Eye aspect ratio = sum of vertical distance/(2* horizontal distance of eye)\n",
    "# here sum of ditance is euclidean distance between points\n"
   ]
  },
  {
   "cell_type": "code",
   "execution_count": 4,
   "id": "5458749f",
   "metadata": {},
   "outputs": [],
   "source": [
    "threshold_value = 0.25\n",
    "flag = 0 \n",
    "no_of_frames= 10"
   ]
  },
  {
   "cell_type": "code",
   "execution_count": 5,
   "id": "6d152674",
   "metadata": {},
   "outputs": [],
   "source": [
    "mixer.init()\n",
    "mixer.music.load(\"music.wav\")"
   ]
  },
  {
   "cell_type": "code",
   "execution_count": 6,
   "id": "6a8d68e5",
   "metadata": {},
   "outputs": [],
   "source": [
    "rec = cv2.VideoCapture(0) # 0 for primary camera\n"
   ]
  },
  {
   "cell_type": "code",
   "execution_count": 7,
   "id": "970638cf",
   "metadata": {},
   "outputs": [
    {
     "name": "stdout",
     "output_type": "stream",
     "text": [
      "1\n",
      "2\n",
      "3\n",
      "4\n",
      "5\n",
      "1\n",
      "2\n",
      "3\n",
      "4\n",
      "5\n",
      "6\n",
      "7\n",
      "8\n",
      "9\n",
      "10\n",
      "1\n",
      "1\n",
      "1\n",
      "2\n",
      "3\n",
      "4\n",
      "5\n",
      "6\n",
      "7\n",
      "8\n",
      "9\n",
      "10\n",
      "11\n",
      "12\n",
      "13\n",
      "14\n",
      "15\n",
      "16\n",
      "17\n",
      "18\n",
      "19\n",
      "20\n",
      "21\n",
      "22\n",
      "23\n",
      "24\n",
      "25\n",
      "26\n",
      "27\n",
      "28\n",
      "29\n",
      "30\n",
      "31\n",
      "32\n",
      "33\n",
      "34\n",
      "1\n",
      "1\n",
      "2\n",
      "3\n",
      "4\n",
      "5\n",
      "1\n",
      "2\n",
      "3\n",
      "4\n",
      "5\n",
      "6\n",
      "7\n",
      "8\n",
      "9\n",
      "10\n",
      "11\n",
      "1\n",
      "2\n",
      "1\n",
      "1\n",
      "2\n",
      "3\n",
      "4\n",
      "5\n",
      "6\n",
      "7\n",
      "8\n",
      "9\n",
      "10\n",
      "11\n",
      "1\n",
      "1\n",
      "1\n",
      "2\n",
      "3\n"
     ]
    },
    {
     "ename": "KeyboardInterrupt",
     "evalue": "",
     "output_type": "error",
     "traceback": [
      "\u001b[1;31m---------------------------------------------------------------------------\u001b[0m",
      "\u001b[1;31mKeyboardInterrupt\u001b[0m                         Traceback (most recent call last)",
      "Cell \u001b[1;32mIn[7], line 27\u001b[0m\n\u001b[0;32m     25\u001b[0m     \u001b[38;5;28;01melse\u001b[39;00m: \n\u001b[0;32m     26\u001b[0m         flag \u001b[38;5;241m=\u001b[39m \u001b[38;5;241m0\u001b[39m\n\u001b[1;32m---> 27\u001b[0m \u001b[43mcv2\u001b[49m\u001b[38;5;241;43m.\u001b[39;49m\u001b[43mimshow\u001b[49m\u001b[43m(\u001b[49m\u001b[38;5;124;43m\"\u001b[39;49m\u001b[38;5;124;43mObject_detection\u001b[39;49m\u001b[38;5;124;43m\"\u001b[39;49m\u001b[43m,\u001b[49m\u001b[43m \u001b[49m\u001b[43mframeimg_eventor\u001b[49m\u001b[43m)\u001b[49m \u001b[38;5;66;03m# to show frame \u001b[39;00m\n\u001b[0;32m     28\u001b[0m \u001b[38;5;28;01mif\u001b[39;00m cv2\u001b[38;5;241m.\u001b[39mwaitKey(\u001b[38;5;241m1\u001b[39m) \u001b[38;5;241m&\u001b[39m \u001b[38;5;241m0xFF\u001b[39m\u001b[38;5;241m==\u001b[39m \u001b[38;5;28mord\u001b[39m(\u001b[38;5;124m\"\u001b[39m\u001b[38;5;124mq\u001b[39m\u001b[38;5;124m\"\u001b[39m): \u001b[38;5;66;03m# wait for 1 millisecond to display window if 0 given it will wait for key to press\u001b[39;00m\n\u001b[0;32m     29\u001b[0m     \u001b[38;5;28;01mbreak\u001b[39;00m\n",
      "\u001b[1;31mKeyboardInterrupt\u001b[0m: "
     ]
    }
   ],
   "source": [
    "while True:\n",
    "    frame_available, frameimg_eventor = rec.read()\n",
    "    frameimg_eventor = imutils.resize(frameimg_eventor,width = 1000)\n",
    "    gray = cv2.cvtColor(frameimg_eventor,cv2.COLOR_BGR2GRAY)\n",
    "    subjects = facial_detection(gray,0) # at 0 index\n",
    "    for subject in subjects:\n",
    "        shape = shape_predictor(gray,subject)\n",
    "        shape = face_utils.shape_to_np(shape)\n",
    "        lefteye = shape[left_eye_landmark_start:left_eye_landmark_end]\n",
    "        righteye = shape[right_eye_landmark_start:right_eye_landmark_end]\n",
    "        leftEAR = EAR_func(lefteye)\n",
    "        rightEAR = EAR_func(righteye)\n",
    "        ear = (leftEAR + rightEAR)/2.0\n",
    "        lefteyeHULL = cv2.convexHull(lefteye) #convexor are minimum boundry points of objects\n",
    "        righteyeHULL = cv2.convexHull(righteye)\n",
    "        #contour is boundry line of any objects\n",
    "        cv2.drawContours(frameimg_eventor,[lefteyeHULL], -1 ,(0,255,0),1) # (0,255,0) is green color and 1 is thickness\n",
    "        cv2.drawContours(frameimg_eventor,[righteyeHULL], -1 ,(0,255,0),1)\n",
    "        if ear<threshold_value:\n",
    "            flag += 1\n",
    "            print(flag)\n",
    "            if flag>=no_of_frames:\n",
    "                cv2.putText(frameimg_eventor,\"*******Alert******\",(10,30),cv2.FONT_HERSHEY_SIMPLEX,0.7,(0,0,255),2)\n",
    "                mixer.music.play()\n",
    "        else: \n",
    "            flag = 0\n",
    "    cv2.imshow(\"Object_detection\", frameimg_eventor) # to show frame \n",
    "    if cv2.waitKey(1) & 0xFF== ord(\"q\"): # wait for 1 millisecond to display window if 0 given it will wait for key to press\n",
    "        break\n",
    "cv2.destroyAllWindows()\n",
    "rec.release()"
   ]
  },
  {
   "cell_type": "code",
   "execution_count": null,
   "id": "a2558ca7",
   "metadata": {},
   "outputs": [],
   "source": []
  }
 ],
 "metadata": {
  "kernelspec": {
   "display_name": "Python 3 (ipykernel)",
   "language": "python",
   "name": "python3"
  },
  "language_info": {
   "codemirror_mode": {
    "name": "ipython",
    "version": 3
   },
   "file_extension": ".py",
   "mimetype": "text/x-python",
   "name": "python",
   "nbconvert_exporter": "python",
   "pygments_lexer": "ipython3",
   "version": "3.10.8"
  }
 },
 "nbformat": 4,
 "nbformat_minor": 5
}
